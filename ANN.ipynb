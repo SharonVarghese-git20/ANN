{
  "nbformat": 4,
  "nbformat_minor": 0,
  "metadata": {
    "colab": {
      "provenance": [],
      "authorship_tag": "ABX9TyOVJF1V2to6d7f5i6aSB0KQ",
      "include_colab_link": true
    },
    "kernelspec": {
      "name": "python3",
      "display_name": "Python 3"
    },
    "language_info": {
      "name": "python"
    }
  },
  "cells": [
    {
      "cell_type": "markdown",
      "metadata": {
        "id": "view-in-github",
        "colab_type": "text"
      },
      "source": [
        "<a href=\"https://colab.research.google.com/github/SharonVarghese-git20/ANN/blob/main/ANN.ipynb\" target=\"_parent\"><img src=\"https://colab.research.google.com/assets/colab-badge.svg\" alt=\"Open In Colab\"/></a>"
      ]
    },
    {
      "cell_type": "code",
      "execution_count": 30,
      "metadata": {
        "id": "QJlGU1RkLXgD"
      },
      "outputs": [],
      "source": [
        "import numpy as np"
      ]
    },
    {
      "cell_type": "code",
      "source": [
        "X=np.array(([2,9],[1,5],[3,6]),dtype=float) #two inputs[sleep,study]\n",
        "y=np.array(([92],[86],[89]),dtype=float)#one output [Expected %in Exams]\n",
        "X=X/np.amax(X,axis=0)#maximum of X array longitudinally\n",
        "Y=y/100"
      ],
      "metadata": {
        "id": "gsfZD9dwLqyB"
      },
      "execution_count": 31,
      "outputs": []
    },
    {
      "cell_type": "code",
      "source": [
        "#sigmoid function\n",
        "def sigmoid (x):\n",
        "  return 1/(1+np.exp(-x))"
      ],
      "metadata": {
        "id": "eyjutigIM0vJ"
      },
      "execution_count": 32,
      "outputs": []
    },
    {
      "cell_type": "code",
      "source": [
        "#Derivative of Sigmoid Function\n",
        "def derivatives_sigmoid(x):\n",
        "  return x*(1-x)"
      ],
      "metadata": {
        "id": "ROfCzwnVNem3"
      },
      "execution_count": 33,
      "outputs": []
    },
    {
      "cell_type": "code",
      "source": [
        "#variable initialization\n",
        "epoch=5000 #setting training iterations\n",
        "lr=0.1 #setting learning rate\n",
        "inputlayer_neurons=2 #number of features in dataset\n",
        "hiddenlayer_neurons=3 #number of hidden layers inputlayer_neurons\n",
        "output_neurons=1 #number of neurons at output layer"
      ],
      "metadata": {
        "id": "O8mb338uN0a_"
      },
      "execution_count": 34,
      "outputs": []
    },
    {
      "cell_type": "code",
      "source": [
        "wh=np.random.uniform(size=(inputlayer_neurons,hiddenlayer_neurons))\n",
        "#weight of the link from input node to hidden node"
      ],
      "metadata": {
        "id": "ZdKx29mBPKio"
      },
      "execution_count": 35,
      "outputs": []
    },
    {
      "cell_type": "code",
      "source": [
        "bh=np.random.uniform(size=(1,hiddenlayer_neurons))\n",
        "#bias of the link from input node to hidden node"
      ],
      "metadata": {
        "id": "8ODf1jyCPuYP"
      },
      "execution_count": 36,
      "outputs": []
    },
    {
      "cell_type": "code",
      "source": [
        "wout=np.random.uniform(size=(hiddenlayer_neurons,output_neurons))\n",
        "#weight of the link from hidden node to output node"
      ],
      "metadata": {
        "id": "8gNXAUJ0QSnn"
      },
      "execution_count": 37,
      "outputs": []
    },
    {
      "cell_type": "code",
      "source": [
        "bout=np.random.uniform(size=(1,output_neurons))\n",
        "#bias of the link from hidden node to output node"
      ],
      "metadata": {
        "id": "_u5CHecyQtoH"
      },
      "execution_count": 38,
      "outputs": []
    },
    {
      "cell_type": "code",
      "source": [
        "#draws a random range of numbers uniformly of dim x*y\n",
        "for i in range(epoch):\n",
        "  #forward progation\n",
        "  hinp1=np.dot(X,wh)\n",
        "  hinp=hinp1+bh\n",
        "  hlayer_act=sigmoid(hinp)\n",
        "  outinp1=np.dot(hlayer_act,wout)\n",
        "  outinp=outinp1+bout\n",
        "  output=sigmoid(outinp)\n",
        "\n",
        "  #backprogation\n",
        "  EO=y-output\n",
        "  outgrad=derivatives_sigmoid(output)\n",
        "  d_output=EO*outgrad\n",
        "  EH=d_output.dot(wout.T)\n",
        "\n",
        "  #how much hidden layer weights contributed to error\n",
        "  hiddengrad=derivatives_sigmoid(hlayer_act)\n",
        "  d_hiddenlayer=EH*hiddengrad\n",
        "\n",
        "  #dotproduct of nextlayererror and currentlayerop\n",
        "wout +=hlayer_act.T.dot(d_output)*lr\n",
        "wh +=X.T.dot(d_hiddenlayer)*lr"
      ],
      "metadata": {
        "id": "LSGGsZtYQ9Jf"
      },
      "execution_count": 39,
      "outputs": []
    },
    {
      "cell_type": "code",
      "source": [
        "print(\"Input:\\n\"+str(X))\n",
        "print(\"Actual Output:\\n\"+str(y))\n",
        "print(\"Predicted Output:\\n\",output)"
      ],
      "metadata": {
        "colab": {
          "base_uri": "https://localhost:8080/"
        },
        "id": "Crm3ko9gT1No",
        "outputId": "f7d0938b-51b0-4e5b-b53e-f6dfb630e710"
      },
      "execution_count": 40,
      "outputs": [
        {
          "output_type": "stream",
          "name": "stdout",
          "text": [
            "Input:\n",
            "[[0.66666667 1.        ]\n",
            " [0.33333333 0.55555556]\n",
            " [1.         0.66666667]]\n",
            "Actual Output:\n",
            "[[92.]\n",
            " [86.]\n",
            " [89.]]\n",
            "Predicted Output:\n",
            " [[0.8949034 ]\n",
            " [0.87487994]\n",
            " [0.89402566]]\n"
          ]
        }
      ]
    }
  ]
}